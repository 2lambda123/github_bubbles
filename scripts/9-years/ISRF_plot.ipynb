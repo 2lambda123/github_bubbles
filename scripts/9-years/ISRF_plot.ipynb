{
 "cells": [
  {
   "cell_type": "code",
   "execution_count": 1,
   "metadata": {
    "collapsed": false
   },
   "outputs": [],
   "source": [
    "import numpy as np\n",
    "from matplotlib import pyplot\n",
    "from iminuit import Minuit\n",
    "import gamma_spectra\n",
    "import pyfits\n",
    "\n",
    "%matplotlib inline  \n",
    "\n",
    "c_light = 2.9979e8 # m/s speed of light\n",
    "h_Planck = 4.1357e-15 # eV * s Planck constant\n",
    "kB = 8.6173303e-5 # eV/K"
   ]
  },
  {
   "cell_type": "code",
   "execution_count": 2,
   "metadata": {
    "collapsed": false
   },
   "outputs": [
    {
     "name": "stderr",
     "output_type": "stream",
     "text": [
      "gamma_spectra.py:222: RuntimeWarning: overflow encountered in exp\n",
      "  expf = 1 / (np.exp(Eg/T) - 1) # T[ev] == k_B * T[K]\n"
     ]
    },
    {
     "data": {
      "image/png": "[encoded data removed]",
      "text/plain": [
       "<matplotlib.figure.Figure at 0x10db76f10>"
      ]
     },
     "metadata": {},
     "output_type": "display_data"
    }
   ],
   "source": [
    "height = 1\n",
    "IRFmap_fn = '../../data/ISRF_flux/Standard_0_0_' + str(height) + '_Flux.fits.gz' # Model for the ISRF\n",
    "hdu = pyfits.open(IRFmap_fn)                                                              # Physical unit of field: 'micron'\n",
    "wavelengths = hdu[1].data.field('Wavelength') * 1.e-6                                     # in m\n",
    "E_irf_galaxy = c_light * h_Planck / wavelengths[::-1]                                     # Convert wavelength in eV, invert order\n",
    "EdNdE_irf_galaxy = hdu[1].data.field('Total')[::-1] / E_irf_galaxy                        # in 1/cm^3. Since unit of 'Total': eV/cm^3\n",
    "\n",
    "dlogE_irf = 0.0230258509299398                                                            # Wavelength bin size\n",
    "    \n",
    "T_CMB = 2.73 * kB                                                                           # CMB temperature\n",
    "E_irf = np.e**np.arange(np.log(E_irf_galaxy[len(E_irf_galaxy)-1]), -6.* np.log(10.), -dlogE_irf)[:0:-1]# CMB-energies array with same log bin size as IRF_galaxy in eV\n",
    "irf_CMB = gamma_spectra.thermal_spectrum(T_CMB)     # Use thermal_spectrum from gamma_spectra.py, returns IRF in eV/cm^3\n",
    "EdNdE_CMB = irf_CMB(E_irf) / E_irf                                                        # in 1/cm^3\n",
    "\n",
    "#print EdNdE_CMB\n",
    "    \n",
    "#E_irf = np.append(E_CMB, E_irf_galaxy)                                                    # Glue arrays together: Energies in eV\n",
    "EdNdE_irf = EdNdE_CMB + np.append(np.zeros(len(E_irf)-len(E_irf_galaxy)), EdNdE_irf_galaxy)                                        # Differential flux in 1/cm^3 \n",
    "    \n",
    "pyplot.loglog(E_irf, E_irf * EdNdE_irf)\n",
    "pyplot.ylim((1.e-4, 1.e3))\n",
    "#pyplot.xlim((0., 0.4))\n",
    "pyplot.show()"
   ]
  },
  {
   "cell_type": "code",
   "execution_count": null,
   "metadata": {
    "collapsed": true
   },
   "outputs": [],
   "source": []
  }
 ],
 "metadata": {
  "anaconda-cloud": {},
  "kernelspec": {
   "display_name": "Python [Root]",
   "language": "python",
   "name": "Python [Root]"
  },
  "language_info": {
   "codemirror_mode": {
    "name": "ipython",
    "version": 2
   },
   "file_extension": ".py",
   "mimetype": "text/x-python",
   "name": "python",
   "nbconvert_exporter": "python",
   "pygments_lexer": "ipython2",
   "version": "2.7.12"
  }
 },
 "nbformat": 4,
 "nbformat_minor": 0
}
