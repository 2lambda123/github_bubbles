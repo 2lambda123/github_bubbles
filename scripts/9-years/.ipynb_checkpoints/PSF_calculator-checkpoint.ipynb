{
 "cells": [
  {
   "cell_type": "code",
   "execution_count": 12,
   "metadata": {
    "collapsed": true
   },
   "outputs": [],
   "source": [
    "import numpy as np\n",
    "import pyfits"
   ]
  },
  {
   "cell_type": "code",
   "execution_count": 30,
   "metadata": {
    "collapsed": false
   },
   "outputs": [],
   "source": [
    "binmin_low = 3\n",
    "binmax_low = 5\n",
    "\n",
    "binmin_high = 6\n",
    "binmax_high = 23\n",
    "\n",
    "GeV2MeV = 1000.\n",
    "npix = 196608 \n",
    "\n",
    "theta_68 = np.array([4., 3.2, 2.7, 1.8, 1.2, 1., 0.6, 0.5, 0.4, 0.3, 0.1, 0.1, 0.1, 0.1, 0.1, 0.1, 0.1, 0.1, 0.1, 0.1, 0.1, 0.1, 0.1, 0.1])\n",
    "theta_95 = np.array([10., 8., 7., 5.1, 4., 3., 2.2, 2., 1.2, 1.1, 0.5, 0.5, 0.5, 0.5, 0.5, 0.5, 0.5, 0.5, 0.5, 0.5, 0.5, 0.5, 0.5, 0.5])"
   ]
  },
  {
   "cell_type": "code",
   "execution_count": 28,
   "metadata": {
    "collapsed": false
   },
   "outputs": [],
   "source": [
    "map_fn = '../../data/P8_P302_Source_z100_w009_w478/maps/counts_P8_P302_Source_z100_w009_w478_healpix_o7_24bins.fits'\n",
    "expo_fn = '../../data/P8_P302_Source_z100_w009_w478/irfs/expcube_P8_P302_Source_z100_w009_w478_P8R2_SOURCE_V6_healpix_o7_24bins.fits'\n",
    "hdu = pyfits.open(map_fn)\n",
    "data = hdu[1].data.field('Spectra').T # data.T.shape = (nE, npix)\n",
    "Es = hdu[2].data.field('MeV') / GeV2MeV\n",
    "hdu_expo = pyfits.open(expo_fn)\n",
    "expo = hdu_expo[1].data.field('Spectra').T\n",
    "\n"
   ]
  },
  {
   "cell_type": "code",
   "execution_count": 23,
   "metadata": {
    "collapsed": false
   },
   "outputs": [
    {
     "name": "stdout",
     "output_type": "stream",
     "text": [
      "1.43705252887\n"
     ]
    }
   ],
   "source": [
    "# 68 - low energies\n",
    "num = 0.\n",
    "denom = 0.\n",
    "for i in range(npix):\n",
    "    for j in range(binmin_low, binmax_low+1):\n",
    "        num += data[j][i] /expo[j][i] * theta_68[j]\n",
    "        denom += data[j][i] /expo[j][i]\n",
    "\n",
    "low_68 = num/denom\n",
    "print low_68\n",
    "    "
   ]
  },
  {
   "cell_type": "code",
   "execution_count": 24,
   "metadata": {
    "collapsed": false
   },
   "outputs": [
    {
     "name": "stdout",
     "output_type": "stream",
     "text": [
      "4.29982993049\n"
     ]
    }
   ],
   "source": [
    "# 95 - low energies\n",
    "num = 0.\n",
    "denom = 0.\n",
    "for i in range(npix):\n",
    "    for j in range(binmin_low, binmax_low+1):\n",
    "        num += data[j][i] /expo[j][i] * theta_95[j]\n",
    "        denom += data[j][i] /expo[j][i]\n",
    "\n",
    "low_95 = num/denom\n",
    "print low_95"
   ]
  },
  {
   "cell_type": "code",
   "execution_count": 31,
   "metadata": {
    "collapsed": false
   },
   "outputs": [
    {
     "name": "stdout",
     "output_type": "stream",
     "text": [
      "0.467104453212\n"
     ]
    }
   ],
   "source": [
    "# 68 - high energies\n",
    "num = 0.\n",
    "denom = 0.\n",
    "for i in range(npix):\n",
    "    for j in range(binmin_high, binmax_high+1):\n",
    "        num += data[j][i] /expo[j][i] * theta_68[j]\n",
    "        denom += data[j][i] /expo[j][i]\n",
    "\n",
    "high_68 = num/denom\n",
    "print high_68"
   ]
  },
  {
   "cell_type": "code",
   "execution_count": 32,
   "metadata": {
    "collapsed": false
   },
   "outputs": [
    {
     "name": "stdout",
     "output_type": "stream",
     "text": [
      "1.72981193224\n"
     ]
    }
   ],
   "source": [
    "# 95 - high energies\n",
    "num = 0.\n",
    "denom = 0.\n",
    "for i in range(npix):\n",
    "    for j in range(binmin_high, binmax_high+1):\n",
    "        num += data[j][i] /expo[j][i] * theta_95[j]\n",
    "        denom += data[j][i] /expo[j][i]\n",
    "\n",
    "high_95 = num/denom\n",
    "print high_95"
   ]
  },
  {
   "cell_type": "code",
   "execution_count": 33,
   "metadata": {
    "collapsed": false
   },
   "outputs": [
    {
     "name": "stdout",
     "output_type": "stream",
     "text": [
      "1.35901927894\n",
      "3.9365324983\n"
     ]
    }
   ],
   "source": [
    "print np.sqrt(low_68**2 - high_68**2)\n",
    "print np.sqrt(low_95**2 - high_95**2)"
   ]
  },
  {
   "cell_type": "code",
   "execution_count": null,
   "metadata": {
    "collapsed": true
   },
   "outputs": [],
   "source": []
  }
 ],
 "metadata": {
  "anaconda-cloud": {},
  "kernelspec": {
   "display_name": "Python [Root]",
   "language": "python",
   "name": "Python [Root]"
  },
  "language_info": {
   "codemirror_mode": {
    "name": "ipython",
    "version": 2
   },
   "file_extension": ".py",
   "mimetype": "text/x-python",
   "name": "python",
   "nbconvert_exporter": "python",
   "pygments_lexer": "ipython2",
   "version": "2.7.12"
  }
 },
 "nbformat": 4,
 "nbformat_minor": 0
}
