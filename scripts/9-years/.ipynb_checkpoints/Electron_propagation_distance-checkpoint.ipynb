{
 "cells": [
  {
   "cell_type": "code",
   "execution_count": 73,
   "metadata": {
    "collapsed": true
   },
   "outputs": [],
   "source": [
    "import numpy as np\n",
    "import gamma_spectra\n",
    "from matplotlib import pyplot\n",
    "import pyfits\n",
    "import scipy.integrate as integrate\n",
    "\n",
    "%matplotlib inline  "
   ]
  },
  {
   "cell_type": "code",
   "execution_count": 74,
   "metadata": {
    "collapsed": true
   },
   "outputs": [],
   "source": [
    "dE = 2.\n",
    "\n",
    "D_0 = 100.                                              # pc^2 / kyr (for E in GeV)\n",
    "delta = 0.4                                             # (for E in GeV)\n",
    "c_light = 2.9979e8                                      # m / s speed of light\n",
    "h_Planck = 4.1357e-15                                   # eV * s Planck constant\n",
    "kB = 8.6173303e-5                                       # eV / K"
   ]
  },
  {
   "cell_type": "code",
   "execution_count": 75,
   "metadata": {
    "collapsed": false
   },
   "outputs": [],
   "source": [
    "height = 0\n",
    "IRFmap_fn = '../../data/ISRF_flux/Standard_0_0_' + str(height) + '_Flux.fits.gz' # Model for the ISRF\n",
    "hdu = pyfits.open(IRFmap_fn)                                                              # Physical unit of field: 'micron'\n",
    "wavelengths = hdu[1].data.field('Wavelength') * 1.e-6                                     # in m\n",
    "E_irf_galaxy = c_light * h_Planck / wavelengths[::-1]                                     # Convert wavelength in eV, invert order\n",
    "EdNdE_irf_galaxy = hdu[1].data.field('Total')[::-1] / E_irf_galaxy                        # in 1/cm^3. Since unit of 'Total': eV/cm^3\n",
    "\n",
    "dlogE_irf = 0.0230258509299398                                                            # Wavelength bin size\n",
    "    \n",
    "T_CMB = 2.73 * kB                                                                           # CMB temperature\n",
    "E_irf = np.e**np.arange(np.log(E_irf_galaxy[len(E_irf_galaxy)-1]), -6.* np.log(10.), -dlogE_irf)[:0:-1]# CMB-energies array with same log bin size as IRF_galaxy in eV\n",
    "irf_CMB = gamma_spectra.thermal_spectrum(T_CMB)     # Use thermal_spectrum from gamma_spectra.py, returns IRF in eV/cm^3\n",
    "EdNdE_CMB = irf_CMB(E_irf) / E_irf                                                        # in 1/cm^3\n",
    "                                                 # Glue arrays together: Energies in eV\n",
    "EdNdE_irf = EdNdE_CMB + np.append(np.zeros(len(E_irf)-len(E_irf_galaxy)), EdNdE_irf_galaxy)                                        # Differential flux in 1/cm^3 \n",
    " "
   ]
  },
  {
   "cell_type": "code",
   "execution_count": 97,
   "metadata": {
    "collapsed": false
   },
   "outputs": [
    {
     "name": "stdout",
     "output_type": "stream",
     "text": [
      "5.89376372554\n"
     ]
    }
   ],
   "source": [
    "def D(E):\n",
    "    return D_0 * E**delta\n",
    "\n",
    "def b(E): # E[GeV], EdNdE_irf[1/cm^3], E_irf[eV]\n",
    "    correct_units = gamma_spectra.ICS_Edot(E, EdNdE_irf, E_irf)  * 60. * 60. * 24. * 365.25 * 1.e3 # GeV / kyr\n",
    "    return correct_units\n",
    "print b(1000.)\n",
    "\n",
    "def x(E):\n",
    "    print E\n",
    "    Lambda = integrate.quad(lambda x: D(x)/b(x), E, np.inf)\n",
    "    return np.sqrt(2 * Lambda[0])\n",
    "    #return np.sqrt(2. * np.sum(D(E_0)/b(E_0) * (E_0 - E_0/10.**dE) for E_0 in 10.**np.arange(np.log(E)/np.log(10), np.log(E)/np.log(10) + 5., dE))) #???\n",
    "    "
   ]
  },
  {
   "cell_type": "code",
   "execution_count": 91,
   "metadata": {
    "collapsed": false
   },
   "outputs": [
    {
     "name": "stdout",
     "output_type": "stream",
     "text": [
      "10.0\n",
      "100.0\n",
      "1000.0\n"
     ]
    }
   ],
   "source": [
    "E_e = 10.**(np.arange(1.,4.))     # GeV\n",
    "prop_dists = [x(E) for E in E_e]"
   ]
  },
  {
   "cell_type": "code",
   "execution_count": 92,
   "metadata": {
    "collapsed": false
   },
   "outputs": [
    {
     "name": "stdout",
     "output_type": "stream",
     "text": [
      "[2164.6904998446689, 1772.7738871152376, 1336.8947686771469]\n"
     ]
    },
    {
     "data": {
      "image/png": "[encoded data removed]",
      "text/plain": [
       "<matplotlib.figure.Figure at 0x10bf9a0d0>"
      ]
     },
     "metadata": {},
     "output_type": "display_data"
    }
   ],
   "source": [
    "pyplot.figure()\n",
    "#prop_dists = [prop_dists[E,0] for E in len(E_e)]\n",
    "print prop_dists\n",
    "pyplot.semilogx(E_e, prop_dists, marker = \"s\", ls = \"\", color = \"red\")\n",
    "pyplot.ylabel(\"Electron propagation distance in pc\")\n",
    "pyplot.xlabel(\"Initial electron energy in GeV\")\n",
    "#pyplot.ylim(0, 1800)\n",
    "pyplot.grid()\n",
    "pyplot.show()"
   ]
  },
  {
   "cell_type": "code",
   "execution_count": 93,
   "metadata": {
    "collapsed": false,
    "scrolled": true
   },
   "outputs": [
    {
     "data": {
      "image/png": "[encoded data removed]",
      "text/plain": [
       "<matplotlib.figure.Figure at 0x11231ba50>"
      ]
     },
     "metadata": {},
     "output_type": "display_data"
    }
   ],
   "source": [
    "pyplot.loglog(E_irf, E_irf * EdNdE_irf)\n",
    "pyplot.ylim((1.e-4, 1.e3))\n",
    "pyplot.xlabel(\"Energy in eV\")\n",
    "pyplot.ylabel(\"EdNdE_irf in 1/cm^3\")\n",
    "pyplot.show()"
   ]
  },
  {
   "cell_type": "code",
   "execution_count": 94,
   "metadata": {
    "collapsed": false
   },
   "outputs": [
    {
     "data": {
      "image/png": "[encoded data removed]",
      "text/plain": [
       "<matplotlib.figure.Figure at 0x1122c5fd0>"
      ]
     },
     "metadata": {},
     "output_type": "display_data"
    }
   ],
   "source": [
    "pyplot.loglog(E_e, [D(E)/b(E) for E in E_e], marker = 's', ls = '')\n",
    "pyplot.show()"
   ]
  },
  {
   "cell_type": "code",
   "execution_count": 96,
   "metadata": {
    "collapsed": false
   },
   "outputs": [
    {
     "data": {
      "image/png": "[encoded data removed]",
      "text/plain": [
       "<matplotlib.figure.Figure at 0x10d9e3a50>"
      ]
     },
     "metadata": {},
     "output_type": "display_data"
    }
   ],
   "source": [
    "pyplot.loglog(E_e, [b(E) for E in E_e], marker = 's', ls = '')\n",
    "pyplot.show()"
   ]
  },
  {
   "cell_type": "code",
   "execution_count": null,
   "metadata": {
    "collapsed": true
   },
   "outputs": [],
   "source": []
  }
 ],
 "metadata": {
  "anaconda-cloud": {},
  "kernelspec": {
   "display_name": "Python [Root]",
   "language": "python",
   "name": "Python [Root]"
  },
  "language_info": {
   "codemirror_mode": {
    "name": "ipython",
    "version": 2
   },
   "file_extension": ".py",
   "mimetype": "text/x-python",
   "name": "python",
   "nbconvert_exporter": "python",
   "pygments_lexer": "ipython2",
   "version": "2.7.12"
  }
 },
 "nbformat": 4,
 "nbformat_minor": 0
}
